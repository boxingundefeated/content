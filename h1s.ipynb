{
 "cells": [
  {
   "cell_type": "code",
   "execution_count": null,
   "metadata": {},
   "outputs": [],
   "source": [
    "import os\n",
    "import re\n",
    "\n",
    "md_files_dir = 'products/best/1'\n",
    "\n",
    "def add_title_as_h1_to_all_files(md_files_dir):\n",
    "    # Loop through all .md files in the directory\n",
    "    for filename in os.listdir(md_files_dir):\n",
    "        if filename.endswith('.md'):\n",
    "            md_file_path = os.path.join(md_files_dir, filename)\n",
    "            add_title_as_h1(md_file_path)\n",
    "\n",
    "def add_title_as_h1(md_file_path):\n",
    "    # Check if the .md file exists\n",
    "    if os.path.exists(md_file_path):\n",
    "        # Read the content of the .md file\n",
    "        with open(md_file_path, 'r') as md_file:\n",
    "            content = md_file.read()\n",
    "        \n",
    "        # Extract the title from the frontmatter\n",
    "        match = re.search(r'^title:\\s*(.*)', content, re.MULTILINE)\n",
    "        if match:\n",
    "            title = match.group(1).strip()\n",
    "            # Remove surrounding quotes if they exist\n",
    "            if (title.startswith('\"') and title.endswith('\"')) or (title.startswith(\"'\") and title.endswith(\"'\")):\n",
    "                title = title[1:-1]\n",
    "            \n",
    "            # Add the title as an H1 heading under the frontmatter\n",
    "            if content.startswith('---'):\n",
    "                parts = content.split('---', 2)\n",
    "                if len(parts) > 2:\n",
    "                    frontmatter = parts[1].strip()\n",
    "                    body = parts[2].strip()\n",
    "                    if f'# {title}' not in body:\n",
    "                        new_content = f'---\\n{frontmatter}\\n---\\n\\n# {title}\\n\\n{body}'\n",
    "                    else:\n",
    "                        new_content = content\n",
    "                else:\n",
    "                    new_content = content\n",
    "            else:\n",
    "                new_content = f'# {title}\\n\\n{content}'\n",
    "            \n",
    "            # Write the updated content back to the .md file\n",
    "            with open(md_file_path, 'w') as md_file:\n",
    "                md_file.write(new_content)\n",
    "        else:\n",
    "            print(f\"Title not found in frontmatter: {md_file_path}\")\n",
    "    else:\n",
    "        print(f\"File not found: {md_file_path}\")\n",
    "\n",
    "# Example usage\n",
    "\n",
    "add_title_as_h1_to_all_files(md_files_dir)"
   ]
  }
 ],
 "metadata": {
  "kernelspec": {
   "display_name": ".venv",
   "language": "python",
   "name": "python3"
  },
  "language_info": {
   "codemirror_mode": {
    "name": "ipython",
    "version": 3
   },
   "file_extension": ".py",
   "mimetype": "text/x-python",
   "name": "python",
   "nbconvert_exporter": "python",
   "pygments_lexer": "ipython3",
   "version": "3.10.0"
  }
 },
 "nbformat": 4,
 "nbformat_minor": 2
}
